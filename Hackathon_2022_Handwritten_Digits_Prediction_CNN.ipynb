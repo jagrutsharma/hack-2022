{
  "nbformat": 4,
  "nbformat_minor": 0,
  "metadata": {
    "colab": {
      "provenance": [],
      "authorship_tag": "ABX9TyMKlgyJ4tiTOCrujry6EXM2",
      "include_colab_link": true
    },
    "kernelspec": {
      "name": "python3",
      "display_name": "Python 3"
    },
    "language_info": {
      "name": "python"
    }
  },
  "cells": [
    {
      "cell_type": "markdown",
      "metadata": {
        "id": "view-in-github",
        "colab_type": "text"
      },
      "source": [
        "<a href=\"https://colab.research.google.com/github/jagrutsharma/hack-2022/blob/main/Hackathon_2022_Handwritten_Digits_Prediction_CNN.ipynb\" target=\"_parent\"><img src=\"https://colab.research.google.com/assets/colab-badge.svg\" alt=\"Open In Colab\"/></a>"
      ]
    },
    {
      "cell_type": "markdown",
      "source": [
        "# Predicting Digits from Handwritten Images - Using Convolutional Neural Network\n"
      ],
      "metadata": {
        "id": "vjslJmHNsTIz"
      }
    },
    {
      "cell_type": "markdown",
      "source": [
        "# Step 1: Train the model using MNIST dataset"
      ],
      "metadata": {
        "id": "B0V6DnMAvDLB"
      }
    },
    {
      "cell_type": "code",
      "source": [
        "# This has been done (if needed, we can go in details)"
      ],
      "metadata": {
        "id": "JM2MxIBYv0Mz"
      },
      "execution_count": 79,
      "outputs": []
    },
    {
      "cell_type": "markdown",
      "source": [
        "# Step 2: Separate some data to test"
      ],
      "metadata": {
        "id": "pvPH9dnyvKj0"
      }
    },
    {
      "cell_type": "code",
      "source": [
        "from tensorflow.keras.datasets import mnist\n",
        "\n",
        "# Load the MNIST dataset. Set aside some data for testing.\n",
        "(x_train, y_train), (x_test, y_test)  = mnist.load_data()\n",
        "# Display the number of samples in x_test, y_test\n",
        "print (\"Number of samples in our test data: \" + str(len(x_test)))\n",
        "print (\"Number of labels in our test data: \" + str(len(y_test)) + \"\\n\")\n",
        "print (\"Dimensions of x_test:\" + str(x_test[0].shape))\n",
        "print (\"Labels in y_test:\" + str(y_test.shape))"
      ],
      "metadata": {
        "id": "GxqzXgkjmkbA",
        "colab": {
          "base_uri": "https://localhost:8080/"
        },
        "outputId": "0d571356-be1f-4acf-f21f-463d284783d2"
      },
      "execution_count": 80,
      "outputs": [
        {
          "output_type": "stream",
          "name": "stdout",
          "text": [
            "Number of samples in our test data: 10000\n",
            "Number of labels in our test data: 10000\n",
            "\n",
            "Dimensions of x_test:(28, 28)\n",
            "Labels in y_test:(10000,)\n"
          ]
        }
      ]
    },
    {
      "cell_type": "markdown",
      "source": [
        "# Step 3: Prepare the test **samples**"
      ],
      "metadata": {
        "id": "bwa6QfAEva9k"
      }
    },
    {
      "cell_type": "code",
      "source": [
        "# Get number of rows\n",
        "img_rows = x_train[0].shape[0]\n",
        "# Get number of columns\n",
        "img_cols = x_train[0].shape[1]\n",
        "\n",
        "# Getting data in the right 'shape' needed for Keras\n",
        "# Add a 4th dimenion to the data thereby changing the\n",
        "# original image shape of (60000,28,28) to (60000,28,28,1)\n",
        "x_test = x_test.reshape(x_test.shape[0], img_rows, img_cols, 1)\n",
        "\n",
        "# change image type to float32 data type\n",
        "x_test = x_test.astype('float32')\n",
        "\n",
        "# Normalize our data by changing the range from (0 to 255) to (0 to 1)\n",
        "x_test /= 255.0\n",
        "\n",
        "# Print number of test samples\n",
        "print(x_test.shape[0], 'test samples')"
      ],
      "metadata": {
        "id": "2Dtw5Zu0o14d",
        "colab": {
          "base_uri": "https://localhost:8080/"
        },
        "outputId": "1513442a-da5f-4fc3-9f39-156429fd1e64"
      },
      "execution_count": 81,
      "outputs": [
        {
          "output_type": "stream",
          "name": "stdout",
          "text": [
            "10000 test samples\n"
          ]
        }
      ]
    },
    {
      "cell_type": "markdown",
      "source": [
        "# Step 4: Load the trained model"
      ],
      "metadata": {
        "id": "kyMseS30vgzu"
      }
    },
    {
      "cell_type": "code",
      "execution_count": 82,
      "metadata": {
        "id": "iYB2oaIXlKqI"
      },
      "outputs": [],
      "source": [
        "# Load the trained model\n",
        "from tensorflow.keras.models import load_model\n",
        "TRAINED_MODEL_NAME = 'mnist_trained_model.h5'\n",
        "classifier = load_model(TRAINED_MODEL_NAME)"
      ]
    },
    {
      "cell_type": "markdown",
      "source": [
        "# Step 5: Predict handwritten digits"
      ],
      "metadata": {
        "id": "QORo-zaAvjtL"
      }
    },
    {
      "cell_type": "code",
      "source": [
        "# Test\n",
        "import numpy as np\n",
        "import matplotlib.pyplot as plt\n",
        "\n",
        "figure = plt.figure(figsize=(20,20))\n",
        "SAMPLES_TO_TEST = 9;\n",
        "\n",
        "# https://www.tensorflow.org/api_docs/python/tf/keras/Model#predict\n",
        "for i in range(SAMPLES_TO_TEST):\n",
        "    figure.add_subplot(1,SAMPLES_TO_TEST,i+1)\n",
        "    random_idx = np.random.randint(0,len(x_test))\n",
        "    plt.imshow(x_test[random_idx,:,:,0],cmap=\"gray\")\n",
        "    plt.axis(\"off\")\n",
        "    print(np.squeeze(np.argmax(classifier.predict(x_test[random_idx].reshape(1,28,28,1), verbose=0),axis=1),axis=0),end=\"\\t\\t\")"
      ],
      "metadata": {
        "id": "in9-azHBlyBF",
        "colab": {
          "base_uri": "https://localhost:8080/",
          "height": 154
        },
        "outputId": "9db6f78c-b0cd-491e-af20-5576c29e09de"
      },
      "execution_count": 84,
      "outputs": [
        {
          "output_type": "stream",
          "name": "stdout",
          "text": [
            "9\t\t7\t\t6\t\t3\t\t9\t\t5\t\t8\t\t0\t\t8\t\t"
          ]
        },
        {
          "output_type": "display_data",
          "data": {
            "text/plain": [
              "<Figure size 1440x1440 with 9 Axes>"
            ],
            "image/png": "[encoded data removed]"
          },
          "metadata": {
            "needs_background": "light"
          }
        }
      ]
    }
  ]
}